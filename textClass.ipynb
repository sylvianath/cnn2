{
 "cells": [
  {
   "cell_type": "code",
   "execution_count": 38,
   "metadata": {},
   "outputs": [],
   "source": [
    "import numpy as np\n",
    "import torch\n",
    "import torch.nn as nn\n",
    "import torch.optim as optim\n",
    "from torch.autograd import Variable\n",
    "import torch.utils.data as utils\n",
    "import getData\n",
    "torch.manual_seed(1)\n",
    "\n",
    "class TextCNN():\n",
    "    def __init__(self, senLen, numClasses, indexSize,\n",
    "                embeddingSize, kernelSizes, numFilters,XY):\n",
    "        self.senLen = senLen\n",
    "        self.numClasses = numClasses\n",
    "        self.indexSize = indexSize\n",
    "        self.embeddingSize = embeddingSize\n",
    "        self.kernelSizes = kernelSizes\n",
    "        self.numFilters = numFilters\n",
    "        self.embeddings = None\n",
    "        self.XY = XY\n",
    "        self.model = None\n",
    "        self.lossFn = nn.CrossEntropyLoss().type(torch.FloatTensor)\n",
    "        self.opt = None\n",
    "\n",
    "    def makeEmbeddings(self,numWords,index,X,senWords):\n",
    "        e = nn.Embedding(numWords,self.embeddingSize,sparse=True)\n",
    "        inputData = torch.zeros([len(X),1,senWords,self.embeddingSize],dtype=torch.float64)\n",
    "        for i,sen in enumerate(X):\n",
    "            senIndex = torch.zeros([1,senWords],dtype=torch.long)\n",
    "            for j,word in enumerate(sen.split()):\n",
    "                senIndex[0,j]= index[word]\n",
    "            inputData[i][0] = e(Variable(torch.LongTensor(senIndex[0])))\n",
    "        return inputData\n",
    "\n",
    "    def makeModel(self,lr):\n",
    "        self.model = nn.Sequential(\n",
    "                nn.Conv2d(1,64,kernel_size=(3,self.embeddingSize),stride=1),\n",
    "                nn.ReLU(inplace=True),\n",
    "                nn.BatchNorm2d(64),\n",
    "                nn.Dropout(p=0.2),\n",
    "                nn.Conv2d(64,64,(3,1),stride=1),\n",
    "                nn.ReLU(inplace=True),\n",
    "                nn.BatchNorm2d(64),\n",
    "                nn.Dropout(p=0.2),\n",
    "                nn.MaxPool2d(kernel_size=(2,1)),\n",
    "                nn.Conv2d(64,128,(3,1),stride=1),\n",
    "                nn.ReLU(inplace=True),\n",
    "                nn.BatchNorm2d(128),\n",
    "                nn.Dropout(p=0.2),\n",
    "                nn.Conv2d(128,128,(3,1),stride=1),\n",
    "                nn.ReLU(inplace=True),\n",
    "                nn.BatchNorm2d(128),\n",
    "                nn.Dropout(p=0.2),\n",
    "                nn.MaxPool2d(kernel_size=(2,1)),\n",
    "                Flatten(),\n",
    "                nn.Linear(5248,1024),\n",
    "                nn.ReLU(inplace=True),\n",
    "                nn.Linear(1024,2),\n",
    "        )\n",
    "        self.opt = optim.RMSprop(self.model.parameters(),lr=lr)\n",
    "\n",
    "    def train(self,numEpochs=1):\n",
    "        for epoch in range(numEpochs):\n",
    "            self.model.train()\n",
    "            print(\"LEN XY\",len(self.XY))\n",
    "            for i,(x,y) in enumerate(self.XY):\n",
    "                xVar = Variable(x).float()\n",
    "                yVar = Variable(y).type(torch.LongTensor)\n",
    "                scores = self.model(xVar)\n",
    "                loss = self.lossFn(scores,yVar)\n",
    "                if (i + 1) % 100 == 0:\n",
    "                    print(\"i = %d, loss = %.4f\" % (i + 1, loss.data[0]))\n",
    "                self.opt.zero_grad()\n",
    "                loss.backward()\n",
    "                self.opt.step()\n",
    "            print('starting new epoch')\n",
    "\n",
    "    def setXY(self,XY):\n",
    "        self.XY=XY\n",
    "    def checkAccuracy(self):\n",
    "        #if(self.XY.dataset.train):\n",
    "        #    print('Checking accuracy on validation set')\n",
    "        #else:\n",
    "        #    print('Checking accuracy on test set')\n",
    "        numCorrect = 0\n",
    "        numSamples = 0\n",
    "        self.model.eval()\n",
    "        for i,(x,y) in enumerate(self.XY):\n",
    "            xVar = Variable(x).float()\n",
    "            yVar = Variable(y).type(torch.LongTensor)\n",
    "            scores = self.model(xVar)\n",
    "            _,preds = scores.data.cpu().max(1)\n",
    "            numCorrect += (preds == yVar).sum()\n",
    "            numSamples += preds.size(0)\n",
    "        acc = float(numCorrect)/numSamples\n",
    "        print('Got %d / %d correct (%.2f)' % (numCorrect, numSamples, 100 * acc))\n",
    "\n",
    "class Flatten(nn.Module):\n",
    "    def forward(self,x):\n",
    "        N,C,H,W = x.size()\n",
    "        return x.view(N,-1)\n"
   ]
  },
  {
   "cell_type": "code",
   "execution_count": 39,
   "metadata": {},
   "outputs": [
    {
     "name": "stdout",
     "output_type": "stream",
     "text": [
      "calling getData...\n",
      "making TextCNN...\n",
      "making embeddings...\n"
     ]
    }
   ],
   "source": [
    "print('calling getData...')\n",
    "X,index,XY,Y = getData.main()\n",
    "print('making TextCNN...')\n",
    "tNN = TextCNN(177,2,40690,10,[3,4,5],3,XY)\n",
    "print('making embeddings...')\n",
    "inputData = tNN.makeEmbeddings(40690,index,X,177)\n"
   ]
  },
  {
   "cell_type": "code",
   "execution_count": 40,
   "metadata": {},
   "outputs": [
    {
     "name": "stdout",
     "output_type": "stream",
     "text": [
      "making model...\n",
      "<class 'torch.Tensor'> <class 'torch.Tensor'>\n",
      "Y LEN 64720\n",
      "dataloader len: 1012\n"
     ]
    }
   ],
   "source": [
    "print('making model...')\n",
    "tNN.makeModel(lr=1e-4)\n",
    "print(type(inputData), type(Y))\n",
    "my_dataset = utils.TensorDataset(inputData, Y)\n",
    "print(\"Y LEN\",len(Y))\n",
    "my_dataloader = utils.DataLoader(my_dataset,batch_size=64)\n",
    "print(\"dataloader len:\",len(my_dataloader))\n",
    "tNN.setXY(my_dataloader)"
   ]
  },
  {
   "cell_type": "code",
   "execution_count": 41,
   "metadata": {},
   "outputs": [
    {
     "name": "stdout",
     "output_type": "stream",
     "text": [
      "calling train...\n",
      "LEN XY 1012\n"
     ]
    },
    {
     "name": "stderr",
     "output_type": "stream",
     "text": [
      "/Users/user1/anaconda3/lib/python3.6/site-packages/ipykernel_launcher.py:72: UserWarning: invalid index of a 0-dim tensor. This will be an error in PyTorch 0.5. Use tensor.item() to convert a 0-dim tensor to a Python number\n"
     ]
    },
    {
     "name": "stdout",
     "output_type": "stream",
     "text": [
      "i = 100, loss = 0.7191\n",
      "i = 200, loss = 0.7447\n",
      "i = 300, loss = 0.7010\n",
      "i = 400, loss = 0.6755\n",
      "i = 500, loss = 0.6962\n",
      "i = 600, loss = 0.6630\n",
      "i = 700, loss = 0.6967\n",
      "i = 800, loss = 0.6790\n",
      "i = 900, loss = 0.6872\n",
      "i = 1000, loss = 0.6841\n",
      "starting new epoch\n"
     ]
    }
   ],
   "source": [
    "print('calling train...')\n",
    "tNN.train(1)"
   ]
  },
  {
   "cell_type": "code",
   "execution_count": 42,
   "metadata": {},
   "outputs": [
    {
     "name": "stdout",
     "output_type": "stream",
     "text": [
      "checking accuracy...\n",
      "Got 34223 / 64720 correct (52.88)\n"
     ]
    }
   ],
   "source": [
    "print('checking accuracy...')\n",
    "tNN.checkAccuracy()"
   ]
  },
  {
   "cell_type": "code",
   "execution_count": null,
   "metadata": {},
   "outputs": [],
   "source": []
  },
  {
   "cell_type": "code",
   "execution_count": null,
   "metadata": {},
   "outputs": [],
   "source": []
  }
 ],
 "metadata": {
  "kernelspec": {
   "display_name": "Python 3",
   "language": "python",
   "name": "python3"
  },
  "language_info": {
   "codemirror_mode": {
    "name": "ipython",
    "version": 3
   },
   "file_extension": ".py",
   "mimetype": "text/x-python",
   "name": "python",
   "nbconvert_exporter": "python",
   "pygments_lexer": "ipython3",
   "version": "3.6.4"
  }
 },
 "nbformat": 4,
 "nbformat_minor": 2
}
