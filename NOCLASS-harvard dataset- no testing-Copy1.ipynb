{
 "cells": [
  {
   "cell_type": "code",
   "execution_count": 6,
   "metadata": {
    "colab": {
     "autoexec": {
      "startup": false,
      "wait_interval": 0
     }
    },
    "colab_type": "code",
    "id": "u_1XjXCfp1O2"
   },
   "outputs": [],
   "source": [
    "import numpy as np\n",
    "import torch\n",
    "import torch.nn as nn\n",
    "import torch.optim as optim\n",
    "from torch.autograd import Variable\n",
    "import torch.utils.data as utils\n",
    "import getData"
   ]
  },
  {
   "cell_type": "code",
   "execution_count": 7,
   "metadata": {
    "colab": {
     "autoexec": {
      "startup": false,
      "wait_interval": 0
     }
    },
    "colab_type": "code",
    "id": "gDEYyXygp1PY"
   },
   "outputs": [],
   "source": [
    "senLen = 59\n",
    "indexSize = 15144\n",
    "embeddingSize = 300\n",
    "kernelSizes = [3,4,5]\n",
    "numFilters = 3\n",
    "embeddings = None\n",
    "XY = None\n",
    "model = None\n",
    "lossFn = nn.CrossEntropyLoss().type(torch.FloatTensor)\n",
    "opt = None"
   ]
  },
  {
   "cell_type": "code",
   "execution_count": 20,
   "metadata": {
    "colab": {
     "autoexec": {
      "startup": false,
      "wait_interval": 0
     }
    },
    "colab_type": "code",
    "id": "SHCpP3-Bp1Pl"
   },
   "outputs": [],
   "source": [
    "def makeEmbeddings(numWords,index,X,senWords,embed):\n",
    "    inputData = torch.zeros([len(X),1,senWords,embeddingSize],dtype=torch.float64)\n",
    "    for i,sen in enumerate(X):\n",
    "        senIndex = torch.zeros([1,senWords,embeddingSize],dtype=torch.float64)\n",
    "        for j,word in enumerate(sen):\n",
    "            senIndex[0,j]= embed[j-1]\n",
    "        inputData[i][0] = Variable(torch.DoubleTensor(senIndex[0]))\n",
    "    return inputData\n",
    "\n",
    "def makeModel(lr):\n",
    "    model = nn.Sequential(\n",
    "            nn.Conv2d(1,200,kernel_size=(3,embeddingSize),stride=1),\n",
    "            nn.ReLU(inplace=True),\n",
    "            nn.BatchNorm2d(200),\n",
    "            nn.Dropout(p=0.2),\n",
    "            nn.Conv2d(200,300,(4,1),stride=1),\n",
    "            nn.ReLU(inplace=True),\n",
    "            nn.BatchNorm2d(300),\n",
    "            nn.Dropout(p=0.2),\n",
    "            nn.Conv2d(300,500,(5,1),stride=1),\n",
    "            nn.ReLU(inplace=True),\n",
    "            nn.BatchNorm2d(500),\n",
    "            nn.Dropout(p=0.2),\n",
    "            nn.MaxPool2d((50,1)),\n",
    "            Flatten(), \n",
    "            nn.Linear(500,2),\n",
    "    )\n",
    "    opt = optim.Adam(model.parameters(),lr=lr)\n",
    "    return model,opt\n",
    "\n",
    "def train(numEpochs=1):\n",
    "    print(\"Model\",model)\n",
    "    bestAcc = 0\n",
    "    for epoch in range(numEpochs):\n",
    "        print(\"Epoch #\",epoch)\n",
    "        total_loss = 0\n",
    "        model.train()\n",
    "        for i,(x,y) in enumerate(XY):\n",
    "            xVar = Variable(x).float()\n",
    "            yVar = Variable(y).type(torch.LongTensor)\n",
    "            scores = model(xVar)\n",
    "            loss = lossFn(scores,yVar)\n",
    "            if i == 0: \n",
    "                print(\"i = %d, loss = %.4f\" % (i + 1, loss.data[0]))\n",
    "            if (i + 1) % 100 == 0:\n",
    "                print(\"i = %d, loss = %.4f \" % (i + 1, loss.data[0]))\n",
    "            opt.zero_grad()\n",
    "            loss.backward()\n",
    "            total_loss += loss.data[0] \n",
    "            opt.step()\n",
    "        currAcc = checkAccuracy(XY)\n",
    "        if currAcc > bestAcc: \n",
    "            bestAcc = currAcc\n",
    "            saveCheckpoint(model,'model.pt')\n",
    "        \n",
    "        print(\"total_loss %.4f\"% total_loss/float(i))\n",
    "def checkAccuracy(dataSet):\n",
    "    #if(self.XY.dataset.train):\n",
    "    #    print('Checking accuracy on validation set')\n",
    "    #else:\n",
    "    #    print('Checking accuracy on test set')\n",
    "    numCorrect = 0\n",
    "    numSamples = 0\n",
    "    model.eval()\n",
    "    for i,(x,y) in enumerate(dataSet):\n",
    "        xVar = Variable(x).float()\n",
    "        yVar = Variable(y).type(torch.LongTensor)\n",
    "        scores = model(xVar)\n",
    "        _,preds = scores.data.cpu().max(1)\n",
    "        numCorrect += (preds == yVar).sum()\n",
    "        numSamples += preds.size(0)\n",
    "    acc = float(numCorrect)/numSamples\n",
    "    print('Got %d / %d correct (%.2f)' % (numCorrect, numSamples, 100 * acc))\n",
    "\n",
    "class Flatten(nn.Module):\n",
    "    def forward(self,x):\n",
    "        N,C,H,W = x.size()\n",
    "        return x.view(N,-1)"
   ]
  },
  {
   "cell_type": "code",
   "execution_count": 13,
   "metadata": {},
   "outputs": [
    {
     "name": "stdout",
     "output_type": "stream",
     "text": [
      "calling getData...\n",
      "15144 51\n",
      "true\n",
      "59\n",
      "True\n"
     ]
    }
   ],
   "source": [
    "print('calling getData...')\n",
    "X,index,XY,Y,max_sent_len = getData.runTrain()"
   ]
  },
  {
   "cell_type": "code",
   "execution_count": 10,
   "metadata": {},
   "outputs": [],
   "source": [
    "Xte,XYte,Yte,max_sent_ = getData.getTest(index,max_sent_len)"
   ]
  },
  {
   "cell_type": "code",
   "execution_count": 14,
   "metadata": {
    "colab": {
     "autoexec": {
      "startup": false,
      "wait_interval": 0
     },
     "base_uri": "https://localhost:8080/",
     "height": 738
    },
    "colab_type": "code",
    "executionInfo": {
     "elapsed": 1250,
     "status": "error",
     "timestamp": 1526945337230,
     "user": {
      "displayName": "Moshe Yang",
      "photoUrl": "https://lh3.googleusercontent.com/a/default-user=s128",
      "userId": "112997361072337440949"
     },
     "user_tz": 420
    },
    "id": "k7netEw6p1P4",
    "outputId": "be0664bc-c5fb-4ffe-f69c-fe8f31a0a0a6"
   },
   "outputs": [
    {
     "name": "stdout",
     "output_type": "stream",
     "text": [
      "making embeddings...\n"
     ]
    }
   ],
   "source": [
    "print('making embeddings...')\n",
    "from gensim.models import KeyedVectors\n",
    "word_vectors = KeyedVectors.load_word2vec_format('GoogleNews-vectors-negative300.bin', binary=True)"
   ]
  },
  {
   "cell_type": "code",
   "execution_count": 15,
   "metadata": {},
   "outputs": [],
   "source": [
    "embeddings = torch.randn(len(index)+1,300)\n",
    "for k,v in index.items():\n",
    "    try: \n",
    "        embeddings[v-1].copy_(torch.from_numpy(word_vectors.get_vector(k)))\n",
    "    except KeyError:\n",
    "        continue \n",
    "embeddings[0] = 0"
   ]
  },
  {
   "cell_type": "code",
   "execution_count": 16,
   "metadata": {},
   "outputs": [],
   "source": [
    "inputData = makeEmbeddings(len(index),index,X,senLen,embeddings)\n",
    "#inputDataTe = makeEmbeddings(len(index),index,Xte,senLen,embeddings)"
   ]
  },
  {
   "cell_type": "code",
   "execution_count": 17,
   "metadata": {
    "colab": {
     "autoexec": {
      "startup": false,
      "wait_interval": 0
     }
    },
    "colab_type": "code",
    "id": "yxNU7aMrp1QN",
    "outputId": "884a8cb2-7f03-4fec-e15a-08e302047d1d"
   },
   "outputs": [
    {
     "name": "stdout",
     "output_type": "stream",
     "text": [
      "making model...\n",
      "<class 'torch.Tensor'> <class 'torch.Tensor'>\n"
     ]
    }
   ],
   "source": [
    "print('making model...')\n",
    "model,opt=makeModel(lr=1e-5)\n",
    "print(type(inputData), type(Y))\n",
    "my_datasetTr = utils.TensorDataset(inputData, Y)\n",
    "#my_datasetTe = utils.TensorDataset(inputDataTe, Yte)\n",
    "my_dataloaderTr = utils.DataLoader(my_datasetTr,batch_size=64)\n",
    "#my_dataloaderTe = utils.DataLoader(my_datasetTe,batch_size=64)\n",
    "XY = my_dataloaderTr"
   ]
  },
  {
   "cell_type": "code",
   "execution_count": 21,
   "metadata": {
    "colab": {
     "autoexec": {
      "startup": false,
      "wait_interval": 0
     }
    },
    "colab_type": "code",
    "id": "LThDksKAp1Qc",
    "outputId": "745d86db-939e-4c94-a43e-27ce6167a0ff"
   },
   "outputs": [
    {
     "name": "stdout",
     "output_type": "stream",
     "text": [
      "calling train...\n",
      "Model Sequential(\n",
      "  (0): Conv2d(1, 200, kernel_size=(3, 300), stride=(1, 1))\n",
      "  (1): ReLU(inplace)\n",
      "  (2): BatchNorm2d(200, eps=1e-05, momentum=0.1, affine=True, track_running_stats=True)\n",
      "  (3): Dropout(p=0.2)\n",
      "  (4): Conv2d(200, 300, kernel_size=(4, 1), stride=(1, 1))\n",
      "  (5): ReLU(inplace)\n",
      "  (6): BatchNorm2d(300, eps=1e-05, momentum=0.1, affine=True, track_running_stats=True)\n",
      "  (7): Dropout(p=0.2)\n",
      "  (8): Conv2d(300, 500, kernel_size=(5, 1), stride=(1, 1))\n",
      "  (9): ReLU(inplace)\n",
      "  (10): BatchNorm2d(500, eps=1e-05, momentum=0.1, affine=True, track_running_stats=True)\n",
      "  (11): Dropout(p=0.2)\n",
      "  (12): MaxPool2d(kernel_size=(50, 1), stride=(50, 1), padding=0, dilation=1, ceil_mode=False)\n",
      "  (13): Linear(in_features=500, out_features=2, bias=True)\n",
      ")\n",
      "Epoch # 0\n"
     ]
    },
    {
     "ename": "RuntimeError",
     "evalue": "size mismatch, m1: [32000 x 1], m2: [500 x 2] at /Users/soumith/code/builder/wheel/pytorch-src/aten/src/TH/generic/THTensorMath.c:2033",
     "output_type": "error",
     "traceback": [
      "\u001b[0;31m---------------------------------------------------------------------------\u001b[0m",
      "\u001b[0;31mRuntimeError\u001b[0m                              Traceback (most recent call last)",
      "\u001b[0;32m<ipython-input-21-6f87d3d7643c>\u001b[0m in \u001b[0;36m<module>\u001b[0;34m()\u001b[0m\n\u001b[1;32m      1\u001b[0m \u001b[0mprint\u001b[0m\u001b[0;34m(\u001b[0m\u001b[0;34m'calling train...'\u001b[0m\u001b[0;34m)\u001b[0m\u001b[0;34m\u001b[0m\u001b[0m\n\u001b[0;32m----> 2\u001b[0;31m \u001b[0mtrain\u001b[0m\u001b[0;34m(\u001b[0m\u001b[0;36m50\u001b[0m\u001b[0;34m)\u001b[0m\u001b[0;34m\u001b[0m\u001b[0m\n\u001b[0m",
      "\u001b[0;32m<ipython-input-20-4d7e514ad5c6>\u001b[0m in \u001b[0;36mtrain\u001b[0;34m(numEpochs)\u001b[0m\n\u001b[1;32m     39\u001b[0m             \u001b[0mxVar\u001b[0m \u001b[0;34m=\u001b[0m \u001b[0mVariable\u001b[0m\u001b[0;34m(\u001b[0m\u001b[0mx\u001b[0m\u001b[0;34m)\u001b[0m\u001b[0;34m.\u001b[0m\u001b[0mfloat\u001b[0m\u001b[0;34m(\u001b[0m\u001b[0;34m)\u001b[0m\u001b[0;34m\u001b[0m\u001b[0m\n\u001b[1;32m     40\u001b[0m             \u001b[0myVar\u001b[0m \u001b[0;34m=\u001b[0m \u001b[0mVariable\u001b[0m\u001b[0;34m(\u001b[0m\u001b[0my\u001b[0m\u001b[0;34m)\u001b[0m\u001b[0;34m.\u001b[0m\u001b[0mtype\u001b[0m\u001b[0;34m(\u001b[0m\u001b[0mtorch\u001b[0m\u001b[0;34m.\u001b[0m\u001b[0mLongTensor\u001b[0m\u001b[0;34m)\u001b[0m\u001b[0;34m\u001b[0m\u001b[0m\n\u001b[0;32m---> 41\u001b[0;31m             \u001b[0mscores\u001b[0m \u001b[0;34m=\u001b[0m \u001b[0mmodel\u001b[0m\u001b[0;34m(\u001b[0m\u001b[0mxVar\u001b[0m\u001b[0;34m)\u001b[0m\u001b[0;34m\u001b[0m\u001b[0m\n\u001b[0m\u001b[1;32m     42\u001b[0m             \u001b[0mloss\u001b[0m \u001b[0;34m=\u001b[0m \u001b[0mlossFn\u001b[0m\u001b[0;34m(\u001b[0m\u001b[0mscores\u001b[0m\u001b[0;34m,\u001b[0m\u001b[0myVar\u001b[0m\u001b[0;34m)\u001b[0m\u001b[0;34m\u001b[0m\u001b[0m\n\u001b[1;32m     43\u001b[0m             \u001b[0;32mif\u001b[0m \u001b[0mi\u001b[0m \u001b[0;34m==\u001b[0m \u001b[0;36m0\u001b[0m\u001b[0;34m:\u001b[0m\u001b[0;34m\u001b[0m\u001b[0m\n",
      "\u001b[0;32m~/anaconda3/lib/python3.6/site-packages/torch/nn/modules/module.py\u001b[0m in \u001b[0;36m__call__\u001b[0;34m(self, *input, **kwargs)\u001b[0m\n\u001b[1;32m    489\u001b[0m             \u001b[0mresult\u001b[0m \u001b[0;34m=\u001b[0m \u001b[0mself\u001b[0m\u001b[0;34m.\u001b[0m\u001b[0m_slow_forward\u001b[0m\u001b[0;34m(\u001b[0m\u001b[0;34m*\u001b[0m\u001b[0minput\u001b[0m\u001b[0;34m,\u001b[0m \u001b[0;34m**\u001b[0m\u001b[0mkwargs\u001b[0m\u001b[0;34m)\u001b[0m\u001b[0;34m\u001b[0m\u001b[0m\n\u001b[1;32m    490\u001b[0m         \u001b[0;32melse\u001b[0m\u001b[0;34m:\u001b[0m\u001b[0;34m\u001b[0m\u001b[0m\n\u001b[0;32m--> 491\u001b[0;31m             \u001b[0mresult\u001b[0m \u001b[0;34m=\u001b[0m \u001b[0mself\u001b[0m\u001b[0;34m.\u001b[0m\u001b[0mforward\u001b[0m\u001b[0;34m(\u001b[0m\u001b[0;34m*\u001b[0m\u001b[0minput\u001b[0m\u001b[0;34m,\u001b[0m \u001b[0;34m**\u001b[0m\u001b[0mkwargs\u001b[0m\u001b[0;34m)\u001b[0m\u001b[0;34m\u001b[0m\u001b[0m\n\u001b[0m\u001b[1;32m    492\u001b[0m         \u001b[0;32mfor\u001b[0m \u001b[0mhook\u001b[0m \u001b[0;32min\u001b[0m \u001b[0mself\u001b[0m\u001b[0;34m.\u001b[0m\u001b[0m_forward_hooks\u001b[0m\u001b[0;34m.\u001b[0m\u001b[0mvalues\u001b[0m\u001b[0;34m(\u001b[0m\u001b[0;34m)\u001b[0m\u001b[0;34m:\u001b[0m\u001b[0;34m\u001b[0m\u001b[0m\n\u001b[1;32m    493\u001b[0m             \u001b[0mhook_result\u001b[0m \u001b[0;34m=\u001b[0m \u001b[0mhook\u001b[0m\u001b[0;34m(\u001b[0m\u001b[0mself\u001b[0m\u001b[0;34m,\u001b[0m \u001b[0minput\u001b[0m\u001b[0;34m,\u001b[0m \u001b[0mresult\u001b[0m\u001b[0;34m)\u001b[0m\u001b[0;34m\u001b[0m\u001b[0m\n",
      "\u001b[0;32m~/anaconda3/lib/python3.6/site-packages/torch/nn/modules/container.py\u001b[0m in \u001b[0;36mforward\u001b[0;34m(self, input)\u001b[0m\n\u001b[1;32m     89\u001b[0m     \u001b[0;32mdef\u001b[0m \u001b[0mforward\u001b[0m\u001b[0;34m(\u001b[0m\u001b[0mself\u001b[0m\u001b[0;34m,\u001b[0m \u001b[0minput\u001b[0m\u001b[0;34m)\u001b[0m\u001b[0;34m:\u001b[0m\u001b[0;34m\u001b[0m\u001b[0m\n\u001b[1;32m     90\u001b[0m         \u001b[0;32mfor\u001b[0m \u001b[0mmodule\u001b[0m \u001b[0;32min\u001b[0m \u001b[0mself\u001b[0m\u001b[0;34m.\u001b[0m\u001b[0m_modules\u001b[0m\u001b[0;34m.\u001b[0m\u001b[0mvalues\u001b[0m\u001b[0;34m(\u001b[0m\u001b[0;34m)\u001b[0m\u001b[0;34m:\u001b[0m\u001b[0;34m\u001b[0m\u001b[0m\n\u001b[0;32m---> 91\u001b[0;31m             \u001b[0minput\u001b[0m \u001b[0;34m=\u001b[0m \u001b[0mmodule\u001b[0m\u001b[0;34m(\u001b[0m\u001b[0minput\u001b[0m\u001b[0;34m)\u001b[0m\u001b[0;34m\u001b[0m\u001b[0m\n\u001b[0m\u001b[1;32m     92\u001b[0m         \u001b[0;32mreturn\u001b[0m \u001b[0minput\u001b[0m\u001b[0;34m\u001b[0m\u001b[0m\n\u001b[1;32m     93\u001b[0m \u001b[0;34m\u001b[0m\u001b[0m\n",
      "\u001b[0;32m~/anaconda3/lib/python3.6/site-packages/torch/nn/modules/module.py\u001b[0m in \u001b[0;36m__call__\u001b[0;34m(self, *input, **kwargs)\u001b[0m\n\u001b[1;32m    489\u001b[0m             \u001b[0mresult\u001b[0m \u001b[0;34m=\u001b[0m \u001b[0mself\u001b[0m\u001b[0;34m.\u001b[0m\u001b[0m_slow_forward\u001b[0m\u001b[0;34m(\u001b[0m\u001b[0;34m*\u001b[0m\u001b[0minput\u001b[0m\u001b[0;34m,\u001b[0m \u001b[0;34m**\u001b[0m\u001b[0mkwargs\u001b[0m\u001b[0;34m)\u001b[0m\u001b[0;34m\u001b[0m\u001b[0m\n\u001b[1;32m    490\u001b[0m         \u001b[0;32melse\u001b[0m\u001b[0;34m:\u001b[0m\u001b[0;34m\u001b[0m\u001b[0m\n\u001b[0;32m--> 491\u001b[0;31m             \u001b[0mresult\u001b[0m \u001b[0;34m=\u001b[0m \u001b[0mself\u001b[0m\u001b[0;34m.\u001b[0m\u001b[0mforward\u001b[0m\u001b[0;34m(\u001b[0m\u001b[0;34m*\u001b[0m\u001b[0minput\u001b[0m\u001b[0;34m,\u001b[0m \u001b[0;34m**\u001b[0m\u001b[0mkwargs\u001b[0m\u001b[0;34m)\u001b[0m\u001b[0;34m\u001b[0m\u001b[0m\n\u001b[0m\u001b[1;32m    492\u001b[0m         \u001b[0;32mfor\u001b[0m \u001b[0mhook\u001b[0m \u001b[0;32min\u001b[0m \u001b[0mself\u001b[0m\u001b[0;34m.\u001b[0m\u001b[0m_forward_hooks\u001b[0m\u001b[0;34m.\u001b[0m\u001b[0mvalues\u001b[0m\u001b[0;34m(\u001b[0m\u001b[0;34m)\u001b[0m\u001b[0;34m:\u001b[0m\u001b[0;34m\u001b[0m\u001b[0m\n\u001b[1;32m    493\u001b[0m             \u001b[0mhook_result\u001b[0m \u001b[0;34m=\u001b[0m \u001b[0mhook\u001b[0m\u001b[0;34m(\u001b[0m\u001b[0mself\u001b[0m\u001b[0;34m,\u001b[0m \u001b[0minput\u001b[0m\u001b[0;34m,\u001b[0m \u001b[0mresult\u001b[0m\u001b[0;34m)\u001b[0m\u001b[0;34m\u001b[0m\u001b[0m\n",
      "\u001b[0;32m~/anaconda3/lib/python3.6/site-packages/torch/nn/modules/linear.py\u001b[0m in \u001b[0;36mforward\u001b[0;34m(self, input)\u001b[0m\n\u001b[1;32m     53\u001b[0m \u001b[0;34m\u001b[0m\u001b[0m\n\u001b[1;32m     54\u001b[0m     \u001b[0;32mdef\u001b[0m \u001b[0mforward\u001b[0m\u001b[0;34m(\u001b[0m\u001b[0mself\u001b[0m\u001b[0;34m,\u001b[0m \u001b[0minput\u001b[0m\u001b[0;34m)\u001b[0m\u001b[0;34m:\u001b[0m\u001b[0;34m\u001b[0m\u001b[0m\n\u001b[0;32m---> 55\u001b[0;31m         \u001b[0;32mreturn\u001b[0m \u001b[0mF\u001b[0m\u001b[0;34m.\u001b[0m\u001b[0mlinear\u001b[0m\u001b[0;34m(\u001b[0m\u001b[0minput\u001b[0m\u001b[0;34m,\u001b[0m \u001b[0mself\u001b[0m\u001b[0;34m.\u001b[0m\u001b[0mweight\u001b[0m\u001b[0;34m,\u001b[0m \u001b[0mself\u001b[0m\u001b[0;34m.\u001b[0m\u001b[0mbias\u001b[0m\u001b[0;34m)\u001b[0m\u001b[0;34m\u001b[0m\u001b[0m\n\u001b[0m\u001b[1;32m     56\u001b[0m \u001b[0;34m\u001b[0m\u001b[0m\n\u001b[1;32m     57\u001b[0m     \u001b[0;32mdef\u001b[0m \u001b[0mextra_repr\u001b[0m\u001b[0;34m(\u001b[0m\u001b[0mself\u001b[0m\u001b[0;34m)\u001b[0m\u001b[0;34m:\u001b[0m\u001b[0;34m\u001b[0m\u001b[0m\n",
      "\u001b[0;32m~/anaconda3/lib/python3.6/site-packages/torch/nn/functional.py\u001b[0m in \u001b[0;36mlinear\u001b[0;34m(input, weight, bias)\u001b[0m\n\u001b[1;32m    992\u001b[0m         \u001b[0;32mreturn\u001b[0m \u001b[0mtorch\u001b[0m\u001b[0;34m.\u001b[0m\u001b[0maddmm\u001b[0m\u001b[0;34m(\u001b[0m\u001b[0mbias\u001b[0m\u001b[0;34m,\u001b[0m \u001b[0minput\u001b[0m\u001b[0;34m,\u001b[0m \u001b[0mweight\u001b[0m\u001b[0;34m.\u001b[0m\u001b[0mt\u001b[0m\u001b[0;34m(\u001b[0m\u001b[0;34m)\u001b[0m\u001b[0;34m)\u001b[0m\u001b[0;34m\u001b[0m\u001b[0m\n\u001b[1;32m    993\u001b[0m \u001b[0;34m\u001b[0m\u001b[0m\n\u001b[0;32m--> 994\u001b[0;31m     \u001b[0moutput\u001b[0m \u001b[0;34m=\u001b[0m \u001b[0minput\u001b[0m\u001b[0;34m.\u001b[0m\u001b[0mmatmul\u001b[0m\u001b[0;34m(\u001b[0m\u001b[0mweight\u001b[0m\u001b[0;34m.\u001b[0m\u001b[0mt\u001b[0m\u001b[0;34m(\u001b[0m\u001b[0;34m)\u001b[0m\u001b[0;34m)\u001b[0m\u001b[0;34m\u001b[0m\u001b[0m\n\u001b[0m\u001b[1;32m    995\u001b[0m     \u001b[0;32mif\u001b[0m \u001b[0mbias\u001b[0m \u001b[0;32mis\u001b[0m \u001b[0;32mnot\u001b[0m \u001b[0;32mNone\u001b[0m\u001b[0;34m:\u001b[0m\u001b[0;34m\u001b[0m\u001b[0m\n\u001b[1;32m    996\u001b[0m         \u001b[0moutput\u001b[0m \u001b[0;34m+=\u001b[0m \u001b[0mbias\u001b[0m\u001b[0;34m\u001b[0m\u001b[0m\n",
      "\u001b[0;31mRuntimeError\u001b[0m: size mismatch, m1: [32000 x 1], m2: [500 x 2] at /Users/soumith/code/builder/wheel/pytorch-src/aten/src/TH/generic/THTensorMath.c:2033"
     ]
    }
   ],
   "source": [
    "print('calling train...')\n",
    "train(50)"
   ]
  },
  {
   "cell_type": "code",
   "execution_count": 18,
   "metadata": {},
   "outputs": [],
   "source": [
    "def save_checkpoint(state, filename='checkpoint.pth.tar'):\n",
    "    torch.save(state, filename)\n",
    "save_checkpoint(model,  'model.pt')"
   ]
  },
  {
   "cell_type": "code",
   "execution_count": 51,
   "metadata": {
    "colab": {
     "autoexec": {
      "startup": false,
      "wait_interval": 0
     }
    },
    "colab_type": "code",
    "id": "sLpQ0CuLp1Qw"
   },
   "outputs": [
    {
     "name": "stdout",
     "output_type": "stream",
     "text": [
      "checking training accuracy...\n",
      "Got 42259 / 76961 correct (54.91)\n"
     ]
    }
   ],
   "source": [
    "print('checking training accuracy...')\n",
    "checkAccuracy(XY)"
   ]
  },
  {
   "cell_type": "code",
   "execution_count": 22,
   "metadata": {},
   "outputs": [
    {
     "name": "stdout",
     "output_type": "stream",
     "text": [
      "Epoch # 0\n"
     ]
    },
    {
     "name": "stderr",
     "output_type": "stream",
     "text": [
      "/Users/user1/anaconda3/lib/python3.6/site-packages/ipykernel_launcher.py:40: UserWarning: invalid index of a 0-dim tensor. This will be an error in PyTorch 0.5. Use tensor.item() to convert a 0-dim tensor to a Python number\n"
     ]
    },
    {
     "name": "stdout",
     "output_type": "stream",
     "text": [
      "i = 100, loss = 5.3657\n",
      "i = 200, loss = 4.3702\n",
      "i = 300, loss = 5.7993\n",
      "i = 400, loss = 4.5596\n",
      "i = 500, loss = 4.6797\n",
      "i = 600, loss = 4.4845\n",
      "i = 700, loss = 5.8012\n",
      "i = 800, loss = 5.0226\n",
      "i = 900, loss = 5.4300\n",
      "i = 1000, loss = 6.1454\n",
      "i = 1100, loss = 4.9737\n",
      "i = 1200, loss = 3.4508\n",
      "Epoch # 1\n",
      "i = 100, loss = 5.5240\n",
      "i = 200, loss = 4.0358\n",
      "i = 300, loss = 6.1639\n",
      "i = 400, loss = 4.8161\n",
      "i = 500, loss = 4.9376\n",
      "i = 600, loss = 4.1924\n",
      "i = 700, loss = 5.5555\n",
      "i = 800, loss = 4.1912\n",
      "i = 900, loss = 5.6428\n",
      "i = 1000, loss = 6.3821\n",
      "i = 1100, loss = 5.2004\n",
      "i = 1200, loss = 4.2636\n",
      "Epoch # 2\n",
      "i = 100, loss = 5.3878\n",
      "i = 200, loss = 4.0733\n",
      "i = 300, loss = 5.5333\n",
      "i = 400, loss = 4.7414\n",
      "i = 500, loss = 5.1319\n",
      "i = 600, loss = 4.0356\n",
      "i = 700, loss = 6.0306\n",
      "i = 800, loss = 4.4343\n",
      "i = 900, loss = 5.7235\n",
      "i = 1000, loss = 5.7273\n",
      "i = 1100, loss = 4.9162\n",
      "i = 1200, loss = 4.2799\n",
      "Epoch # 3\n",
      "i = 100, loss = 4.6574\n",
      "i = 200, loss = 4.4554\n",
      "i = 300, loss = 5.9660\n",
      "i = 400, loss = 4.5642\n",
      "i = 500, loss = 5.6273\n",
      "i = 600, loss = 5.2579\n",
      "i = 700, loss = 5.8660\n",
      "i = 800, loss = 4.7284\n",
      "i = 900, loss = 5.1362\n",
      "i = 1000, loss = 5.8754\n",
      "i = 1100, loss = 5.2319\n",
      "i = 1200, loss = 4.9258\n",
      "Epoch # 4\n",
      "i = 100, loss = 5.4867\n",
      "i = 200, loss = 4.6779\n",
      "i = 300, loss = 5.0619\n",
      "i = 400, loss = 5.1425\n",
      "i = 500, loss = 4.4184\n",
      "i = 600, loss = 3.7249\n",
      "i = 700, loss = 5.2900\n",
      "i = 800, loss = 4.6967\n",
      "i = 900, loss = 4.6933\n",
      "i = 1000, loss = 5.2897\n",
      "i = 1100, loss = 4.5667\n",
      "i = 1200, loss = 4.0153\n"
     ]
    }
   ],
   "source": [
    "train(10)"
   ]
  },
  {
   "cell_type": "code",
   "execution_count": 23,
   "metadata": {},
   "outputs": [
    {
     "name": "stdout",
     "output_type": "stream",
     "text": [
      "Got 34702 / 76961 correct (45.09)\n"
     ]
    }
   ],
   "source": [
    "checkAccuracy(XY)"
   ]
  },
  {
   "cell_type": "code",
   "execution_count": 15,
   "metadata": {},
   "outputs": [
    {
     "name": "stdout",
     "output_type": "stream",
     "text": [
      "checking validation accuracy...\n",
      "Got 912 / 1821 correct (50.08)\n"
     ]
    }
   ],
   "source": [
    "print('checking validation accuracy...')\n",
    "checkAccuracy(my_dataloaderTe)"
   ]
  },
  {
   "cell_type": "code",
   "execution_count": 14,
   "metadata": {},
   "outputs": [
    {
     "name": "stdout",
     "output_type": "stream",
     "text": [
      "Epoch # 0\n"
     ]
    },
    {
     "name": "stderr",
     "output_type": "stream",
     "text": [
      "/Users/user1/anaconda3/lib/python3.6/site-packages/ipykernel_launcher.py:40: UserWarning: invalid index of a 0-dim tensor. This will be an error in PyTorch 0.5. Use tensor.item() to convert a 0-dim tensor to a Python number\n"
     ]
    },
    {
     "name": "stdout",
     "output_type": "stream",
     "text": [
      "i = 100, loss = 9.7361\n",
      "i = 200, loss = 9.6903\n",
      "i = 300, loss = 9.7456\n",
      "i = 400, loss = 9.6905\n",
      "i = 500, loss = 9.6392\n",
      "i = 600, loss = 9.6411\n",
      "i = 700, loss = 9.6473\n",
      "i = 800, loss = 9.6686\n",
      "i = 900, loss = 9.6868\n",
      "i = 1000, loss = 9.7353\n",
      "i = 1100, loss = 9.6816\n",
      "i = 1200, loss = 9.5365\n",
      "Epoch # 1\n",
      "i = 100, loss = 9.6092\n",
      "i = 200, loss = 9.5382\n",
      "i = 300, loss = 9.6364\n",
      "i = 400, loss = 9.6277\n",
      "i = 500, loss = 9.5093\n",
      "i = 600, loss = 9.5198\n",
      "i = 700, loss = 9.6371\n",
      "i = 800, loss = 9.4575\n",
      "i = 900, loss = 9.5999\n",
      "i = 1000, loss = 9.6197\n",
      "i = 1100, loss = 9.5490\n",
      "i = 1200, loss = 9.4070\n",
      "Epoch # 2\n",
      "i = 100, loss = 9.5561\n",
      "i = 200, loss = 9.3913\n",
      "i = 300, loss = 9.5359\n",
      "i = 400, loss = 9.4710\n",
      "i = 500, loss = 9.4327\n",
      "i = 600, loss = 9.3857\n",
      "i = 700, loss = 9.4832\n",
      "i = 800, loss = 9.3978\n",
      "i = 900, loss = 9.5204\n",
      "i = 1000, loss = 9.5192\n",
      "i = 1100, loss = 9.4498\n",
      "i = 1200, loss = 9.2692\n",
      "Epoch # 3\n",
      "i = 100, loss = 9.3439\n",
      "i = 200, loss = 9.2677\n",
      "i = 300, loss = 9.4322\n",
      "i = 400, loss = 9.3178\n",
      "i = 500, loss = 9.2859\n",
      "i = 600, loss = 9.2316\n",
      "i = 700, loss = 9.5217\n",
      "i = 800, loss = 9.3323\n",
      "i = 900, loss = 9.3463\n",
      "i = 1000, loss = 9.4322\n",
      "i = 1100, loss = 9.2977\n",
      "i = 1200, loss = 9.2040\n",
      "Epoch # 4\n",
      "i = 100, loss = 9.3461\n",
      "i = 200, loss = 9.2312\n",
      "i = 300, loss = 9.4364\n",
      "i = 400, loss = 9.1798\n",
      "i = 500, loss = 9.1613\n",
      "i = 600, loss = 9.1147\n",
      "i = 700, loss = 9.4553\n",
      "i = 800, loss = 9.2595\n",
      "i = 900, loss = 9.3557\n",
      "i = 1000, loss = 9.3069\n",
      "i = 1100, loss = 9.2106\n",
      "i = 1200, loss = 9.0664\n"
     ]
    }
   ],
   "source": [
    "train(5)"
   ]
  },
  {
   "cell_type": "code",
   "execution_count": null,
   "metadata": {},
   "outputs": [],
   "source": []
  }
 ],
 "metadata": {
  "accelerator": "GPU",
  "colab": {
   "collapsed_sections": [],
   "default_view": {},
   "name": "NOCLASS.ipynb",
   "provenance": [],
   "version": "0.3.2",
   "views": {}
  },
  "kernelspec": {
   "display_name": "Python 3",
   "language": "python",
   "name": "python3"
  },
  "language_info": {
   "codemirror_mode": {
    "name": "ipython",
    "version": 3
   },
   "file_extension": ".py",
   "mimetype": "text/x-python",
   "name": "python",
   "nbconvert_exporter": "python",
   "pygments_lexer": "ipython3",
   "version": "3.6.4"
  }
 },
 "nbformat": 4,
 "nbformat_minor": 1
}
